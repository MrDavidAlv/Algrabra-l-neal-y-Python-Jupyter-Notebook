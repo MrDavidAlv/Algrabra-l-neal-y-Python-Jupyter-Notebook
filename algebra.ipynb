{
 "cells": [
  {
   "cell_type": "markdown",
   "metadata": {},
   "source": [
    "# ÁLGEBRA LINEAL CON PYTHON"
   ]
  },
  {
   "cell_type": "markdown",
   "metadata": {},
   "source": [
    "El álgebra lineal es una rama fundamental de las matemáticas que se centra en el estudio de vectores, espacios vectoriales (también llamados espacios lineales), y las transformaciones lineales entre estos espacios. Es una herramienta esencial en muchas áreas de la ciencia y la ingeniería, incluyendo la física, la computación, la economía, y más.\n",
    "\n",
    "### Conceptos Básicos de Álgebra Lineal\n",
    "\n",
    "## 1. Vectores:\n",
    "\n",
    "Un vector es un objeto matemático que tiene magnitud y dirección. En álgebra lineal, los vectores se representan comúnmente como una lista ordenada de números, que se interpretan como coordenadas en un espacio vectorial.\n",
    "\n",
    "**Ejemplo**:"
   ]
  },
  {
   "cell_type": "markdown",
   "metadata": {},
   "source": [
    "$$\\mathbf{v}=\\begin{pmatrix}1\\\\2\\\\3\\end{pmatrix}$$"
   ]
  },
  {
   "cell_type": "markdown",
   "metadata": {},
   "source": [
    "## 2. Espacios Vectoriales:\n",
    "\n",
    "Un espacio vectorial es un conjunto de vectores que se pueden sumar entre sí y multiplicar por escalares (números reales o complejos), cumpliendo ciertas propiedades (como la asociatividad y la conmutatividad de la suma).\n",
    "\n",
    "**Ejemplo**:\n",
    "\n",
    "El conjunto de todos los vectores en $\\mathbb{R}^n$ es un espacio vectorial."
   ]
  },
  {
   "cell_type": "markdown",
   "metadata": {},
   "source": [
    "## 3. Matrices:\n",
    "   \n",
    "Una matriz es una tabla de números organizada en filas y columnas, que puede representar una transformación lineal entre espacios vectoriales.\n",
    "\n",
    "- **Filas**: Son horizontales, como renglones de una tabla.\n",
    "- **Columnas**: Son verticales, como columnas de una tabla.\n",
    "\n",
    "**Ejemplo Visual**\n",
    "\n",
    "Imagina que tienes esta matriz:\n",
    "\n",
    "$$\\mathbf{A} = \\begin{pmatrix} 1_{1,1} & 2_{1,12} & 3_{1,3} \\\\ 4_{2,1} & 5_{2,2} & 6_{2,3}\\end{pmatrix}$$"
   ]
  },
  {
   "cell_type": "markdown",
   "metadata": {},
   "source": [
    "- **Filas**:\n",
    "  - La *primera fila* es $\\begin{pmatrix} 1 & 2 & 3\\end{pmatrix}$.\n",
    "  - La *segunda fila* es $\\begin{pmatrix} 4 & 5 & 6\\end{pmatrix}$.\n",
    "    \n",
    "- **Columnas**:\n",
    "    - La *primera columna* es $\\begin{pmatrix} 1 \\\\ 4 \\end{pmatrix}$.\n",
    "    - La *segunda columna* es $\\begin{pmatrix} 2 \\\\ 5 \\end{pmatrix}$.\n",
    "    - La *tercera columna* es $\\begin{pmatrix} 3 \\\\ 6 \\end{pmatrix}$.\n",
    "    \n",
    "\n",
    "Este enfoque hace que la idea de filas y columnas sea más tangible y fácil de entender para quienes están familiarizados con tablas o hojas de cálculo."
   ]
  },
  {
   "cell_type": "markdown",
   "metadata": {},
   "source": [
    "**Ejemplo matriz cuadrada**\n",
    "\n",
    "$\\mathbf{A} = \\begin{pmatrix} 1 & 2 \\\\ 3 & 4 \\end{pmatrix}$ es una matriz de $(2 \\times 2)$.\n",
    "\n",
    "**Ejemplo matriz cuadrada**\n",
    "\n",
    "$\\mathbf{B} = \\begin{pmatrix} 1 & 2 & 3 \\\\ 4 & 5 & 6 \\\\ 7 & 8 & 9 \\end{pmatrix}$ es una matriz de $(3 \\times 3)$.\n",
    "\n",
    "**Ejemplo**\n",
    "\n",
    "$\\mathbf{C} = \\begin{pmatrix} 1 & 2  \\\\ 4 & 5 \\\\ 7 & 8 \\end{pmatrix}$ es una matriz de $(3 \\times 2)$.\n",
    "\n",
    "**Ejemplo** \n",
    "\n",
    "$\\mathbf{D} = \\begin{pmatrix} 1 & 2 & 3 \\\\ 4 & 5 & 6  \\end{pmatrix}$ es una matriz de $(2 \\times 3)$."
   ]
  },
  {
   "cell_type": "markdown",
   "metadata": {},
   "source": [
    "### Aplicación\n",
    "\n",
    "**SUMA DE MATRICES** ${A}+{B} = {C}$\n",
    "\n",
    "${A} = \\begin{pmatrix} 1 & 2 & 3 \\\\ 2 & 2 & 3 \\\\ 3 & 3 & 3 \\end{pmatrix}$,  ${B} = \\begin{pmatrix} 3 & 2 & 1 \\\\ 1 & 2 & 3 \\\\ 3 & 2 & 1 \\end{pmatrix}$ \n",
    "\n",
    "${C}=\\begin{pmatrix} 1+3 & 2+2 & 3+1 \\\\ 2+1 & 2+2 & 3+3 \\\\ 3+3 & 3+2 & 3+1 \\end{pmatrix} = \\begin{pmatrix} 4 & 4 & 4 \\\\ 3 & 4 & 6 \\\\ 6 & 5 & 4 \\end{pmatrix}$\n",
    "\n",
    "$\\begin{pmatrix} 1 & 2 & 3 \\\\ 2 & 2 & 3 \\\\ 3 & 3 & 3 \\end{pmatrix} + \\begin{pmatrix} 3 & 2 & 1 \\\\ 1 & 2 & 3 \\\\ 3 & 2 & 1 \\end{pmatrix} = \\begin{pmatrix} 4 & 4 & 4 \\\\ 3 & 4 & 6 \\\\ 6 & 5 & 4 \\end{pmatrix}$ \n",
    "\n",
    "<br/>\n",
    "\n",
    "**Ejemplo en Python**\n",
    "${A}+{B} = {C}$"
   ]
  },
  {
   "cell_type": "code",
   "execution_count": 233,
   "metadata": {},
   "outputs": [
    {
     "name": "stdout",
     "output_type": "stream",
     "text": [
      "La suma de las matrices es:\n",
      "[4, 4, 4]\n",
      "[3, 4, 6]\n",
      "[6, 5, 4]\n"
     ]
    }
   ],
   "source": [
    "# Definir las matrices\n",
    "matriz1 = [\n",
    "    [1, 2, 3],\n",
    "    [2, 2, 3],\n",
    "    [3, 3, 3]\n",
    "]\n",
    "\n",
    "matriz2 = [\n",
    "    [3, 2, 1],\n",
    "    [1, 2, 3],\n",
    "    [3, 2, 1]\n",
    "]\n",
    "\n",
    "# Crear una matriz vacía para almacenar el resultado\n",
    "resultado = [\n",
    "    [0, 0, 0],\n",
    "    [0, 0, 0],\n",
    "    [0, 0, 0]\n",
    "]\n",
    "\n",
    "# Sumar las dos matrices\n",
    "for i in range(len(matriz1)):\n",
    "    for j in range(len(matriz1[0])):\n",
    "        resultado[i][j] = matriz1[i][j] + matriz2[i][j]\n",
    "\n",
    "# Imprimir el resultado\n",
    "print(\"La suma de las matrices es:\")\n",
    "for fila in resultado:\n",
    "    print(fila)\n"
   ]
  },
  {
   "cell_type": "markdown",
   "metadata": {},
   "source": [
    "**RESTA DE MATRICES** ${A}-{B} = {C}$\n",
    "\n",
    "${A} = \\begin{pmatrix} 2 & 3 & 4 \\\\ 3 & 2 & 5 \\\\ 6 & 4 & 2 \\end{pmatrix}$,  ${B} = \\begin{pmatrix} 3 & 4 & 1 \\\\ 1 & 2 & 3 \\\\ 3 & 4 & 1 \\end{pmatrix}$ \n",
    "\n",
    "${C}=\\begin{pmatrix} 2-3 & 3-4 & 4-1 \\\\ 3-1 & 2-2 & 5-3 \\\\ 6-3 & 4-4 & 2-1 \\end{pmatrix} = \\begin{pmatrix} -1 & -1 & 3 \\\\ 2 & 0 & 2 \\\\ 3 & 0 & 1 \\end{pmatrix}$\n",
    "\n",
    "$\\begin{pmatrix} 2 & 3 & 4 \\\\ 3 & 2 & 5 \\\\ 6 & 4 & 2 \\end{pmatrix} + \\begin{pmatrix} 3 & 4 & 1 \\\\ 1 & 2 & 3 \\\\ 3 & 4 & 1 \\end{pmatrix} = \\begin{pmatrix} -1 & -1 & 3 \\\\ 2 & 0 & 2 \\\\ 3 & 0 & 1 \\end{pmatrix}$ \n",
    "\n",
    "<br/>\n",
    "\n",
    "**Ejemplo en Python**\n",
    "${A}-{B} = {C}$"
   ]
  },
  {
   "cell_type": "code",
   "execution_count": 254,
   "metadata": {},
   "outputs": [
    {
     "name": "stdout",
     "output_type": "stream",
     "text": [
      "La resta de las matrices es:\n",
      "[-1, -1, 3]\n",
      "[2, 0, 2]\n",
      "[3, 0, 1]\n"
     ]
    }
   ],
   "source": [
    "# Definir las matrices\n",
    "matriz1 = [\n",
    "    [2, 3, 4],\n",
    "    [3, 2, 5],\n",
    "    [6, 4, 2]\n",
    "]\n",
    "\n",
    "matriz2 = [\n",
    "    [3, 4, 1],\n",
    "    [1, 2, 3],\n",
    "    [3, 4, 1]\n",
    "]\n",
    "\n",
    "# Crear una matriz vacía para almacenar el resultado\n",
    "resultado = [\n",
    "    [0, 0, 0],\n",
    "    [0, 0, 0],\n",
    "    [0, 0, 0]\n",
    "]\n",
    "\n",
    "# Sumar las dos matrices\n",
    "for i in range(len(matriz1)):\n",
    "    for j in range(len(matriz1[0])):\n",
    "        resultado[i][j] = matriz1[i][j] - matriz2[i][j]\n",
    "\n",
    "# Imprimir el resultado\n",
    "print(\"La resta de las matrices es:\")\n",
    "for fila in resultado:\n",
    "    print(fila)\n"
   ]
  },
  {
   "cell_type": "markdown",
   "metadata": {},
   "source": [
    "**MULTIPLICACIÓN DE UN ESCALAR POR UNA MATRIZ**  $\\text{escalar}\\cdot{A} = {B}$\n",
    "\n",
    "$\\text{escalar}=2$\n",
    "\n",
    "${A} = \\begin{pmatrix} 2 & 3 & 5 \\\\ 4 & 6 & 2 \\\\ 5 & 3 & 4 \\end{pmatrix}$\n",
    "\n",
    "${B}= 2\\cdot \\begin{pmatrix} 2 \\cdot 2 & 2 \\cdot 3 & 2 \\cdot 5 \\\\ 2 \\cdot 4 & 2 \\cdot 6 & 2 \\cdot 2 \\\\ 2 \\cdot 5 & 2 \\cdot 3 & 2 \\cdot 4 \\end{pmatrix} = \\begin{pmatrix} 4 & 6 & 10 \\\\ 8 & 12 & 4 \\\\ 10 & 6 & 8 \\end{pmatrix}$\n",
    "\n",
    "<br/>\n",
    "\n",
    "**Ejemplo en Python**\n",
    "$\\text{escalar}\\cdot{A} = {B}$"
   ]
  },
  {
   "cell_type": "code",
   "execution_count": 277,
   "metadata": {},
   "outputs": [
    {
     "name": "stdout",
     "output_type": "stream",
     "text": [
      "El resultado de multiplicar la matriz por el escalar es:\n",
      "[4, 6, 10]\n",
      "[8, 12, 4]\n",
      "[10, 6, 8]\n"
     ]
    }
   ],
   "source": [
    "# Definir la matriz 3x3\n",
    "matriz = [\n",
    "    [2, 3, 5],\n",
    "    [4, 6, 2],\n",
    "    [5, 3, 4]\n",
    "]\n",
    "\n",
    "# Definir el escalar\n",
    "escalar = 2\n",
    "\n",
    "# Crear una matriz vacía para almacenar el resultado\n",
    "resultado = [\n",
    "    [0, 0, 0],\n",
    "    [0, 0, 0],\n",
    "    [0, 0, 0]\n",
    "]\n",
    "\n",
    "# Multiplicar cada elemento de la matriz por el escalar\n",
    "for i in range(len(matriz)):\n",
    "    for j in range(len(matriz[0])):\n",
    "        resultado[i][j] = matriz[i][j] * escalar\n",
    "\n",
    "# Imprimir el resultado\n",
    "print(\"El resultado de multiplicar la matriz por el escalar es:\")\n",
    "for fila in resultado:\n",
    "    print(fila)\n"
   ]
  },
  {
   "cell_type": "markdown",
   "metadata": {},
   "source": [
    "**PRODUCTO DE MATRICES** ${A}\\cdot{B} = {C}$\n",
    "\n",
    "${A} = \\begin{pmatrix} 2 & 3 & 4 \\\\ 3 & 2 & 5 \\\\ 6 & 4 & 2 \\end{pmatrix}$,  ${B} = \\begin{pmatrix} 3 & 4 & 1 \\\\ 1 & 2 & 3 \\\\ 3 & 4 & 1 \\end{pmatrix}$ \n",
    "\n",
    "${C}=\\begin{pmatrix} 2-3 & 3-4 & 4-1 \\\\ 3-1 & 2-2 & 5-3 \\\\ 6-3 & 4-4 & 2-1 \\end{pmatrix} = \\begin{pmatrix} -1 & -1 & 3 \\\\ 2 & 0 & 2 \\\\ 3 & 0 & 1 \\end{pmatrix}$\n",
    "\n",
    "$\\begin{pmatrix} 2 & 3 & 4 \\\\ 3 & 2 & 5 \\\\ 6 & 4 & 2 \\end{pmatrix} + \\begin{pmatrix} 3 & 4 & 1 \\\\ 1 & 2 & 3 \\\\ 3 & 4 & 1 \\end{pmatrix} = \\begin{pmatrix} -1 & -1 & 3 \\\\ 2 & 0 & 2 \\\\ 3 & 0 & 1 \\end{pmatrix}$ \n",
    "\n",
    "<br/>\n",
    "\n",
    "**Ejemplo en Python**\n",
    "${A}-{B} = {C}$"
   ]
  },
  {
   "cell_type": "markdown",
   "metadata": {},
   "source": [
    "## 4. Transformaciones Lineales:\n",
    "\n",
    "Una transformación lineal es una función entre dos espacios vectoriales que preserva las operaciones de suma de vectores y multiplicación por un escalar.\n",
    "\n",
    "**Ejemplo**: \n",
    "\n",
    "Si"
   ]
  },
  {
   "cell_type": "markdown",
   "metadata": {},
   "source": [
    "$T: \\mathbb{R}^2 \\rightarrow \\mathbb{R}^2$ "
   ]
  },
  {
   "cell_type": "markdown",
   "metadata": {},
   "source": [
    "es una transformación lineal, entonces\n",
    "\n",
    "$T(\\mathbf{v} + \\mathbf{w}) = T(\\mathbf{v}) + T(\\mathbf{w})$\n",
    "y\n",
    "$T(\\mathbf{cv}) = cT(\\mathbf{v})$"
   ]
  },
  {
   "cell_type": "markdown",
   "metadata": {},
   "source": [
    "## 5. Determinante:\n",
    "El determinante es un valor escalar asociado a una matriz cuadrada que puede dar información sobre propiedades de la matriz, como si es invertible o no.\n",
    "\n",
    "**Ejemplo**:\n",
    "\n",
    "El determinante de la matriz $\\mathbf{A} = \\begin{pmatrix} 1 & 2 \\\\ 3 & 4 \\end{pmatrix}$ es \n",
    "$\\text{det}\\mathbf{A}= 1(4) - 2(3) = -2$."
   ]
  },
  {
   "cell_type": "markdown",
   "metadata": {},
   "source": [
    "## 6. Inversa de una Matriz:\n",
    "La matriz inversa de una matriz cuadrada $\\mathbf{A}$ es otra matriz $\\mathbf{A}^{-1}$ tal que\n",
    "$\\mathbf{A} \\mathbf{A}^{-1} = \\mathbf{I}$, donde $\\mathbf{I}$ es la matriz identidad.\n",
    "\n",
    "**Ejemplo**: \n",
    "\n",
    "Si $\\mathbf{A} = \\begin{pmatrix} 1 & 2 \\\\ 3 & 4 \\end{pmatrix}$, entonces su inversa $\\mathbf{A}^{-1}$ puede ser calculada, si existe."
   ]
  },
  {
   "cell_type": "markdown",
   "metadata": {},
   "source": [
    "## 7. Valores y Vectores Propios:\n",
    "\n",
    "Los valores propios (eigenvalues) y los vectores propios (eigenvectors) son fundamentales en la comprensión de las transformaciones lineales. Si $\\mathbf{A}$ es una matriz y $\\mathbf{v}$ es un vector no nulo, $\\mathbf{v}$ es un vector propio de $\\mathbf{A}$ si $\\mathbf{A} \\mathbf{v} = \\lambda \\mathbf{v}$, donde $\\lambda \\ $ es un escalar llamado valor propio.\n",
    "\n",
    "**Ejemplo**: \n",
    "\n",
    "Si $\\mathbf{A} = \\begin{pmatrix} 4 & 1 \\\\ 2 & 3 \\end{pmatrix}$, resolver la ecuación característica $\\text{det}(\\mathbf{A} - \\lambda \\mathbf{I}) = 0$ dará los valores propios."
   ]
  },
  {
   "cell_type": "markdown",
   "metadata": {},
   "source": [
    "## 8. Norma y Producto Punto:\n",
    "La norma de un vector es una medida de su longitud, y el producto punto (o escalar) es una operación que toma dos vectores y devuelve un escalar.\n",
    "\n",
    "**Ejemplo**:\n",
    "\n",
    "Si $\\mathbf{v} = \\begin{pmatrix} 1 \\\\ 2 \\\\ 3 \\end{pmatrix}$ y $\\mathbf{w} = \\begin{pmatrix} 4 \\\\ 5 \\\\ 6 \\end{pmatrix}$, entonces el producto punto es $\\mathbf{v} \\cdot \\mathbf{w} = 1(4) + 2(5) + 3(6) = 32$.\n"
   ]
  },
  {
   "cell_type": "markdown",
   "metadata": {},
   "source": [
    "### Aplicaciones del Álgebra Lineal\n",
    "\n",
    "- **Cálculo Numérico**: Resolución de sistemas de ecuaciones lineales.\n",
    "- **Gráficos Computacionales**: Manipulación de imágenes y transformación de gráficos.\n",
    "- **Machine Learning**: Álgebra lineal es fundamental en la formulación y resolución de modelos de aprendizaje automático.\n",
    "- **Optimización**: Programación lineal y otras técnicas de optimización.\n",
    "\n",
    "### Recursos para Aprender Álgebra Lineal\n",
    "- **Apuntes de la clase**\n",
    "\n",
    "    Encuentra todos los apuntes de la clase de álgebra lineal \n",
    "<div id=\"header\" align=\"center\"> \n",
    "<a href=\"https://github.com/MrDavidAlv/algebra-lineal\">\n",
    "<img src=\"/images/notas.png\" width=\"30%\"/>\n",
    "</a>\n",
    "</div>\n",
    "\n",
    "- **Libros**:\n",
    "   - \"Introduction to Linear Algebra\" por Gilbert Strang.\n",
    "   - \"Linear Algebra and Its Applications\" por David C. Lay.\n",
    "  \n",
    "- **Cursos en Línea**:\n",
    "   - [Linear Algebra - MIT OpenCourseWare](https://ocw.mit.edu/courses/mathematics/18-06-linear-algebra-spring-2010/)\n",
    "   - [Khan Academy - Álgebra Lineal](https://es.khanacademy.org/math/linear-algebra)\n",
    "\n",
    "Álgebra lineal es una herramienta poderosa con aplicaciones vastas, y entenderla profundamente puede abrir puertas en muchas disciplinas."
   ]
  }
 ],
 "metadata": {
  "kernelspec": {
   "display_name": "Python 3 (ipykernel)",
   "language": "python",
   "name": "python3"
  },
  "language_info": {
   "codemirror_mode": {
    "name": "ipython",
    "version": 3
   },
   "file_extension": ".py",
   "mimetype": "text/x-python",
   "name": "python",
   "nbconvert_exporter": "python",
   "pygments_lexer": "ipython3",
   "version": "3.12.4"
  }
 },
 "nbformat": 4,
 "nbformat_minor": 4
}
